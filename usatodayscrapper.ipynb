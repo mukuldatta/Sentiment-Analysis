{
 "cells": [
  {
   "cell_type": "code",
   "execution_count": 1,
   "id": "b42d9b24",
   "metadata": {},
   "outputs": [
    {
     "name": "stdout",
     "output_type": "stream",
     "text": [
      "Requirement already satisfied: beautifulsoup4 in c:\\users\\mukul\\anaconda3\\lib\\site-packages (4.11.1)\n",
      "Requirement already satisfied: soupsieve>1.2 in c:\\users\\mukul\\anaconda3\\lib\\site-packages (from beautifulsoup4) (2.3.2.post1)\n"
     ]
    }
   ],
   "source": [
    "!pip install beautifulsoup4"
   ]
  },
  {
   "cell_type": "code",
   "execution_count": 5,
   "id": "7018f0bf",
   "metadata": {},
   "outputs": [],
   "source": [
    "from bs4 import BeautifulSoup\n",
    "import requests\n",
    "import spacy\n",
    "import pprint\n",
    "import urllib.request"
   ]
  },
  {
   "cell_type": "code",
   "execution_count": 6,
   "id": "ac883ccb",
   "metadata": {},
   "outputs": [],
   "source": [
    "url = 'https://www.usatoday.com/search/?q=electric+vehicles'\n",
    "r = requests.get(url)\n",
    "soup=BeautifulSoup(r.content,\"html.parser\")\n",
    "data = soup.findAll('div',attrs={'class':'gnt_pr'})"
   ]
  },
  {
   "cell_type": "code",
   "execution_count": 7,
   "id": "55801fde",
   "metadata": {},
   "outputs": [],
   "source": [
    "with open('usatoday.txt', 'w') as f:\n",
    "    for div in data:\n",
    "        links = div.findAll('a')\n",
    "        for a in links:\n",
    "            link = 'http://www.usatoday.com/' + a['href']\n",
    "            f.write(link+'\\n')"
   ]
  },
  {
   "cell_type": "code",
   "execution_count": 8,
   "id": "b3759c9a",
   "metadata": {},
   "outputs": [],
   "source": [
    "import csv\n",
    "with open('usatoday.txt') as file:\n",
    "    for line in file:\n",
    "        url = line.strip('\\n')\n",
    "        source = urllib.request.urlopen(url)\n",
    "        soup = BeautifulSoup(source, features=\"html.parser\")\n",
    "        with open('content.csv','w') as csvfile:\n",
    "            fieldnames = ['Article','Content']\n",
    "            writer = csv.DictWriter(csvfile, fieldnames = fieldnames)\n",
    "            writer.writeheader()\n",
    "            for para in soup.findAll(\"p\"):\n",
    "                paragraph = para.get_text().encode('utf-8')\n",
    "                writer.writerow({'Article' : 'USATODAY','Content': paragraph})"
   ]
  },
  {
   "cell_type": "code",
   "execution_count": null,
   "id": "5e8ba0e7",
   "metadata": {},
   "outputs": [],
   "source": []
  }
 ],
 "metadata": {
  "kernelspec": {
   "display_name": "Python 3 (ipykernel)",
   "language": "python",
   "name": "python3"
  },
  "language_info": {
   "codemirror_mode": {
    "name": "ipython",
    "version": 3
   },
   "file_extension": ".py",
   "mimetype": "text/x-python",
   "name": "python",
   "nbconvert_exporter": "python",
   "pygments_lexer": "ipython3",
   "version": "3.9.12"
  }
 },
 "nbformat": 4,
 "nbformat_minor": 5
}
